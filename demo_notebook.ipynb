# Install required packages (if needed)
# !pip install -r requirements.txt

import sys
import os
import json
from pathlib import Path
import pandas as pd
import warnings
warnings.filterwarnings('ignore')

# Add src to path
if 'src' not in sys.path:
    sys.path.insert(0, 'src')

from src.query_system import QuerySystem
from src.models import Domain, QueryType

print("✓ All imports successful")## 1. System Setup and Initialization# LLM-Powered Intelligent Query-Retrieval System

## Demonstration Notebook

This notebook demonstrates the capabilities of our LLM-powered intelligent query-retrieval system designed for processing large documents in insurance, legal, HR, and compliance domains.

### System Features:

1. **Multi-format Document Processing**: PDF, DOCX, Email
2. **Semantic Search**: FAISS-based vector similarity search
3. **Clause Matching**: Pattern-based and semantic clause identification
4. **Decision Engine**: Logic evaluation with explainable reasoning
5. **Structured JSON Output**: Complete traceability and explainability

### Architecture Overview:

```
Input Documents → Document Parser → Embedding Generator → FAISS Index
                                                              ↓
Query → LLM Processor → Enhanced Query → Semantic Search → Retrieved Chunks
                                            ↓
Clause Matcher → Decision Engine → Response Formatter → JSON Output
```